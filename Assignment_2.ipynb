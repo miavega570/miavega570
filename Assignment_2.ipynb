{
  "cells": [
    {
      "cell_type": "markdown",
      "metadata": {
        "id": "lXUvXO1c4Y2C"
      },
      "source": [
        "# Multiple EM for Motif Elicitation"
      ]
    },
    {
      "cell_type": "code",
      "execution_count": null,
      "metadata": {
        "id": "jHpRT25b4Y2G"
      },
      "outputs": [],
      "source": [
        "import numpy as np\n",
        "from sklearn.preprocessing import normalize"
      ]
    },
    {
      "cell_type": "code",
      "execution_count": null,
      "metadata": {
        "id": "cIoCtczK4Y2I"
      },
      "outputs": [],
      "source": [
        "# Constant used in this exercise\n",
        "# Fill in all of the ...s/TODOs\n",
        "width = 8\n",
        "\n",
        "# Helper dict for indexing\n",
        "let_dict = {\"A\":0, \"C\":1, \"G\":2, \"T\":3}"
      ]
    },
    {
      "cell_type": "markdown",
      "metadata": {
        "id": "l1qOp0Wk4Y2I"
      },
      "source": [
        "## 1. Read in Fasta Sequences"
      ]
    },
    {
      "cell_type": "code",
      "execution_count": null,
      "metadata": {
        "colab": {
          "base_uri": "https://localhost:8080/",
          "height": 232
        },
        "id": "ygI5MBvX4Y2J",
        "outputId": "8cdb7955-6708-42c9-8c16-b8ab6bb36f0a"
      },
      "outputs": [
        {
          "output_type": "stream",
          "name": "stdout",
          "text": [
            "Requirement already satisfied: biopython in /usr/local/lib/python3.7/dist-packages (1.79)\n",
            "Requirement already satisfied: numpy in /usr/local/lib/python3.7/dist-packages (from biopython) (1.19.5)\n"
          ]
        },
        {
          "output_type": "error",
          "ename": "FileNotFoundError",
          "evalue": "ignored",
          "traceback": [
            "\u001b[0;31m---------------------------------------------------------------------------\u001b[0m",
            "\u001b[0;31mFileNotFoundError\u001b[0m                         Traceback (most recent call last)",
            "\u001b[0;32m<ipython-input-11-09616a18eb08>\u001b[0m in \u001b[0;36m<module>\u001b[0;34m()\u001b[0m\n\u001b[1;32m      4\u001b[0m \u001b[0;34m\u001b[0m\u001b[0m\n\u001b[1;32m      5\u001b[0m \u001b[0mfastas\u001b[0m \u001b[0;34m=\u001b[0m \u001b[0;34m'motif-regions.fa'\u001b[0m\u001b[0;34m\u001b[0m\u001b[0;34m\u001b[0m\u001b[0m\n\u001b[0;32m----> 6\u001b[0;31m \u001b[0mf\u001b[0m \u001b[0;34m=\u001b[0m \u001b[0mopen\u001b[0m\u001b[0;34m(\u001b[0m\u001b[0mfastas\u001b[0m\u001b[0;34m)\u001b[0m\u001b[0;34m\u001b[0m\u001b[0;34m\u001b[0m\u001b[0m\n\u001b[0m",
            "\u001b[0;31mFileNotFoundError\u001b[0m: [Errno 2] No such file or directory: 'motif-regions.fa'"
          ]
        }
      ],
      "source": [
        "# Read in the files using BioPython\n",
        "# TODO:\n",
        "!pip install biopython\n",
        "\n",
        "fastas = 'motif-regions.fa'\n",
        "f = open(fastas)"
      ]
    },
    {
      "cell_type": "code",
      "execution_count": null,
      "metadata": {
        "id": "ENJMv7iw4Y2K"
      },
      "outputs": [],
      "source": [
        "# Extract strings of sequences from the above files\n",
        "# TODO:\n",
        "\n",
        "sequences = ..."
      ]
    },
    {
      "cell_type": "markdown",
      "metadata": {
        "id": "9SOI6yCJ4Y2L"
      },
      "source": [
        "## 2. Create p_0"
      ]
    },
    {
      "cell_type": "code",
      "execution_count": null,
      "metadata": {
        "id": "bGW7T2EJ4Y2L"
      },
      "outputs": [],
      "source": [
        "# Initialize p with a uniform background\n",
        "\n",
        "def init_p(l, w, seqs, let):\n",
        "    p = np.zeros((4, w+1))\n",
        "\n",
        "    # set a uniform background for each A C G T\n",
        "    # TODO:\n",
        "    for i in ...:\n",
        "        \n",
        "        # TODO:\n",
        "        p[...][0] = 0.25\n",
        "\n",
        "    # set motif positions\n",
        "    for i in range(l-w+1):\n",
        "        for sequence in seqs:\n",
        "            for j in range(w):\n",
        "                \n",
        "                # Fill in p_0\n",
        "                # TODO:\n",
        "                ...\n",
        "                \n",
        "    # normalize columns to sum to 1\n",
        "    p = normalize(p, axis = 0, norm = 'l1')\n",
        "    \n",
        "    return p"
      ]
    },
    {
      "cell_type": "markdown",
      "metadata": {
        "id": "9cLgp4Bz4Y2M"
      },
      "source": [
        "## 3. Fill in EM iteration"
      ]
    },
    {
      "cell_type": "code",
      "execution_count": null,
      "metadata": {
        "id": "MbUgJatP4Y2N"
      },
      "outputs": [],
      "source": [
        "# Define a general function to run EM\n",
        "\n",
        "def run_EM(w, seqs, let, init_p, up_prob, up_motif, epsilon = 2**-64):\n",
        "    \n",
        "    l = len(seqs[0])\n",
        "    \n",
        "    no_change = False\n",
        "    \n",
        "    # set an initial p_t_1\n",
        "    # TODO:\n",
        "    p_t_1 = ...\n",
        "        \n",
        "    while not no_change:\n",
        "        \n",
        "        # Label the following steps as E step or M step in the comment preceding\n",
        "        \n",
        "        # TODO:\n",
        "        # ...\n",
        "                \n",
        "        z_t = up_motif(l, w, p_t_1, seqs, let)\n",
        "        \n",
        "        # TODO:\n",
        "        # ...\n",
        "                \n",
        "        p_t = up_prob(l, w, z_t, seqs, let)\n",
        "        \n",
        "        diff = np.subtract(p_t, p_t_1)\n",
        "        \n",
        "        # Write a condition to stop the EM iterations (use epsilon and diff)\n",
        "        # TODO:\n",
        "        if ...:        \n",
        "            no_change = True\n",
        "        else:\n",
        "            # Update p_t_1\n",
        "            # TODO:\n",
        "            ...\n",
        "                \n",
        "    return p_t, z_t"
      ]
    },
    {
      "cell_type": "markdown",
      "metadata": {
        "id": "rvy7EMaG4Y2N"
      },
      "source": [
        "## 4. Fill in function to update z_t"
      ]
    },
    {
      "cell_type": "code",
      "execution_count": null,
      "metadata": {
        "id": "OFYkb8RD4Y2O"
      },
      "outputs": [],
      "source": [
        "# Define a function to update z\n",
        "\n",
        "def up_motif(l, w, p_t_1, seqs, let):\n",
        "    z_t = np.zeros((len(seqs), l-w+1))\n",
        "\n",
        "    for i, sequence in enumerate(seqs):\n",
        "        for j in range(l-w+1):\n",
        "            \n",
        "            # Fill in z_t using p_t_1\n",
        "            # Ignore background as we're assuming 0.25 for all 4\n",
        "            # TODO:\n",
        "            z_t[i][j] = ...\n",
        "    \n",
        "    # Normalize z_t\n",
        "    # TODO:\n",
        "    z_t = ...\n",
        "        \n",
        "    return z_t\n",
        "    "
      ]
    },
    {
      "cell_type": "markdown",
      "metadata": {
        "id": "jcxZxc_K4Y2P"
      },
      "source": [
        "## 5. Fill in function to update p_t"
      ]
    },
    {
      "cell_type": "code",
      "execution_count": null,
      "metadata": {
        "id": "IA2qGV8P4Y2P"
      },
      "outputs": [],
      "source": [
        "# Define a function to update p\n",
        "\n",
        "def up_prob(l, w, z_t, seqs, let):\n",
        "    p_t = np.zeros((4, w+1))\n",
        "    \n",
        "    n = np.zeros((4, w+1))\n",
        "    \n",
        "    # Fill in n for k > 0\n",
        "    for k in range(1, w+1):\n",
        "        for letter in let.keys():\n",
        "            sum_z = 0\n",
        "            for i, sequence in enumerate(seqs):\n",
        "                \n",
        "                # Write j_vals according to the condition seen in lecture\n",
        "                # TODO:\n",
        "                j_vals = ...\n",
        "                                \n",
        "                # Add to the sum using z_t\n",
        "                # TODO:\n",
        "                sum_z += ...\n",
        "            \n",
        "            # Fill in the correct indices\n",
        "            # TODO:\n",
        "            n[...][...] = sum_z\n",
        "                 \n",
        "    # Fill in n for k == 0\n",
        "    \n",
        "    # May help to make the next step easier\n",
        "    joined_seq = \"\".join(seqs)\n",
        "    \n",
        "    # Create a dict with total counts of A,C,G,T\n",
        "    # TODO:\n",
        "    counts = ...\n",
        "        \n",
        "    # Sum across the rows of n\n",
        "    # TODO:\n",
        "    sum_n_j = ...    \n",
        "        \n",
        "    for letter in let.keys():\n",
        "        \n",
        "        # Fill in the correct indices and its value\n",
        "        # TODO:\n",
        "        n[...][...] = ...\n",
        "\n",
        "    \n",
        "    # Use n to fill in p_t\n",
        "    # Pseudo-count = 1\n",
        "    # TODO:\n",
        "    p_t = ...\n",
        "        \n",
        "    return p_t\n",
        "    "
      ]
    },
    {
      "cell_type": "markdown",
      "metadata": {
        "id": "QZyPqA5o4Y2Q"
      },
      "source": [
        "## 6. Run the EM to find the final p and z"
      ]
    },
    {
      "cell_type": "code",
      "execution_count": null,
      "metadata": {
        "id": "T_c8SRxB4Y2Q"
      },
      "outputs": [],
      "source": [
        "# Use the variables set at the start and \n",
        "# TODO:\n",
        "p_end, z_end = ..."
      ]
    },
    {
      "cell_type": "markdown",
      "metadata": {
        "id": "ff1zMi6R4Y2R"
      },
      "source": [
        "## 7. Determine Motifs"
      ]
    },
    {
      "cell_type": "code",
      "execution_count": null,
      "metadata": {
        "id": "QX3rj1XD4Y2R"
      },
      "outputs": [],
      "source": [
        "# Find the indices of the max element for each row in z_end\n",
        "# TODO:\n",
        "motif_indices = ...\n",
        "\n",
        "# Get the 'width' characters long motifs using seqs\n",
        "# TODO:\n",
        "motifs = ...\n",
        "print(motifs)"
      ]
    }
  ],
  "metadata": {
    "kernelspec": {
      "display_name": "Python 3",
      "language": "python",
      "name": "python3"
    },
    "language_info": {
      "codemirror_mode": {
        "name": "ipython",
        "version": 3
      },
      "file_extension": ".py",
      "mimetype": "text/x-python",
      "name": "python",
      "nbconvert_exporter": "python",
      "pygments_lexer": "ipython3",
      "version": "3.8.8"
    },
    "colab": {
      "name": "Assignment 2.ipynb",
      "provenance": []
    }
  },
  "nbformat": 4,
  "nbformat_minor": 0
}